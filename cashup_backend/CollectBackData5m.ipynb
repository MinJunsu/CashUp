{
 "cells": [
  {
   "cell_type": "code",
   "execution_count": 5,
   "id": "2f224dd0",
   "metadata": {},
   "outputs": [],
   "source": [
    "import os\n",
    "os.environ['DJANGO_SETTINGS_MODULE'] = 'cashup_backend.settings'\n",
    "os.environ['DJANGO_ALLOW_ASYNC_UNSAFE'] = \"true\"\n",
    "\n",
    "import django\n",
    "django.setup()"
   ]
  },
  {
   "cell_type": "code",
   "execution_count": 6,
   "id": "945cc6b2",
   "metadata": {},
   "outputs": [],
   "source": [
    "from data.models import MinuteData"
   ]
  },
  {
   "cell_type": "code",
   "execution_count": 7,
   "id": "4a19cbab",
   "metadata": {},
   "outputs": [],
   "source": [
    "import requests\n",
    "from datetime import timedelta, datetime\n",
    "\n",
    "start=0"
   ]
  },
  {
   "cell_type": "code",
   "execution_count": null,
   "id": "6b58a882",
   "metadata": {
    "pycharm": {
     "is_executing": true
    }
   },
   "outputs": [],
   "source": [
    "\n",
    "while True:\n",
    "    URL = \"https://www.bitmex.com/api/v1/trade/bucketed?symbol=XBT&binSize=5m&partial=false&start={}&count=1000&reverse=false\".format(start)\n",
    "    request = requests.get(URL).json()\n",
    "    for data in request:\n",
    "        datetime = datetime.strptime(data['timestamp'].replace(\"T\", \" \")[0:19], \"%Y-%m-%d %H:%M:%S\") + timedelta(\n",
    "        hours=9) - timedelta(minutes=5)\n",
    "        open_price = data['open'] if data['open'] is not None else 0\n",
    "        high_price = data['high'] if data['high'] is not None else 0\n",
    "        low_price = data['low'] if data['low'] is not None else 0\n",
    "        close_price = data['close'] if data['close'] is not None else 0\n",
    "        volume = data['volume'] if data['volume'] is not None else 0\n",
    "        obj = MinuteData()\n",
    "        obj.time = f\"{datetime.day} {datetime.hour}:{datetime.minute}\"\n",
    "        obj.min_price = low_price\n",
    "        obj.max_price = high_price\n",
    "        obj.open_price = open_price\n",
    "        obj.close_price = close_price\n",
    "        obj.volume = volume\n",
    "        obj.datetime = datetime\n",
    "        obj.save()\n",
    "        \n",
    "    start += 1000"
   ]
  },
  {
   "cell_type": "code",
   "execution_count": null,
   "id": "2cbc63b7",
   "metadata": {
    "pycharm": {
     "is_executing": true
    }
   },
   "outputs": [],
   "source": []
  }
 ],
 "metadata": {
  "interpreter": {
   "hash": "f27151edfd386f0db753837b0d1ae8c8939cbbc8d414438d5f6923bf9fa8ce6e"
  },
  "kernelspec": {
   "display_name": "Python 3",
   "language": "python",
   "name": "python3"
  },
  "language_info": {
   "codemirror_mode": {
    "name": "ipython",
    "version": 3
   },
   "file_extension": ".py",
   "mimetype": "text/x-python",
   "name": "python",
   "nbconvert_exporter": "python",
   "pygments_lexer": "ipython3",
   "version": "3.9.6"
  }
 },
 "nbformat": 4,
 "nbformat_minor": 5
}