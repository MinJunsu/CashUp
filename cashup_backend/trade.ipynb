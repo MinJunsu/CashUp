{
 "cells": [
  {
   "cell_type": "code",
   "execution_count": 1,
   "metadata": {
    "collapsed": true
   },
   "outputs": [],
   "source": [
    "import os\n",
    "import django\n",
    "from datetime import timedelta, datetime\n",
    "\n",
    "os.environ['DJANGO_SETTINGS_MODULE'] = 'cashup_backend.settings'\n",
    "os.environ['DJANGO_ALLOW_ASYNC_UNSAFE'] = \"true\"\n",
    "\n",
    "django.setup()"
   ]
  },
  {
   "cell_type": "code",
   "execution_count": 20,
   "outputs": [],
   "source": [
    "from data.models import HourData, MinuteData\n",
    "from trade.models import TradeResult, TradeSetting\n",
    "from django.db.models import Q"
   ],
   "metadata": {
    "collapsed": false,
    "pycharm": {
     "name": "#%%\n"
    }
   }
  },
  {
   "cell_type": "code",
   "execution_count": 3,
   "outputs": [],
   "source": [
    "def version_3_is_buy(flag, data):\n",
    "    # set Default Value\n",
    "    up_count = 0\n",
    "    down_count = 0\n",
    "    last_fu_time = \"\"\n",
    "    last_fu_flag = False\n",
    "    last_fd_time = \"\"\n",
    "    last_fd_flag = False\n",
    "\n",
    "    for element in data:\n",
    "        if last_fu_time != \"\":\n",
    "            if element.datetime - last_fu_time >= timedelta(minutes=60):\n",
    "                last_fu_flag = True\n",
    "                if element.up_down == \"U\":\n",
    "                    up_count += 1\n",
    "\n",
    "        if last_fd_time != \"\":\n",
    "            if element.datetime - last_fd_time >= timedelta(minutes=60):\n",
    "                last_fd_flag = True\n",
    "                if element.up_down == \"D\":\n",
    "                    down_count += 1\n",
    "\n",
    "        if element.signal == \"fU(U)\":\n",
    "            last_fu_flag = False\n",
    "            last_fu_time = element.datetime\n",
    "            up_count = 0\n",
    "\n",
    "        if element.signal == \"fD(D)\":\n",
    "            last_fd_flag = False\n",
    "            last_fd_time = element.datetime\n",
    "            down_count = 0\n",
    "\n",
    "    if flag:\n",
    "        if last_fu_flag and up_count > 2:\n",
    "            return True\n",
    "\n",
    "    else:\n",
    "        if last_fd_flag and down_count > 2:\n",
    "            return True\n",
    "    return False"
   ],
   "metadata": {
    "collapsed": false,
    "pycharm": {
     "name": "#%%\n"
    }
   }
  },
  {
   "cell_type": "code",
   "execution_count": 4,
   "outputs": [],
   "source": [
    "def version_2_is_buy(flag, data):\n",
    "    last_signal = \"\"\n",
    "    last_up_down = \"\"\n",
    "    for element in data:\n",
    "        last_signal = element.signal\n",
    "        last_up_down = element.up_down\n",
    "\n",
    "    if flag:\n",
    "        if last_signal == 'fD(D)' and last_up_down == \"U\":\n",
    "            return True\n",
    "    else:\n",
    "        if last_signal == 'fU(U)' and last_up_down == \"D\":\n",
    "            return True\n",
    "    return False"
   ],
   "metadata": {
    "collapsed": false,
    "pycharm": {
     "name": "#%%\n"
    }
   }
  },
  {
   "cell_type": "code",
   "execution_count": 5,
   "outputs": [
    {
     "name": "stdout",
     "output_type": "stream",
     "text": [
      "version2: (False, True), version3: (False, True)\n"
     ]
    }
   ],
   "source": [
    "minute_data = MinuteData.objects.filter(datetime__range=[MinuteData.objects.last().datetime - timedelta(hours=6), MinuteData.objects.last().datetime])\n",
    "now_price = minute_data.last().close_price\n",
    "long_3 = version_3_is_buy(True, minute_data)\n",
    "short_3 = version_3_is_buy(False, minute_data)\n",
    "long_2 = version_2_is_buy(True, minute_data)\n",
    "short_2 = version_2_is_buy(False, minute_data)\n",
    "long_1 = False"
   ],
   "metadata": {
    "collapsed": false,
    "pycharm": {
     "name": "#%%\n"
    }
   }
  },
  {
   "cell_type": "code",
   "execution_count": 6,
   "outputs": [],
   "source": [
    "## 유저 확인 로직\n",
    "test_trade_users = []\n",
    "real_trade_users = []\n",
    "user_query = TradeSetting.objects.all()\n",
    "for element in user_query:\n",
    "    if element.test_trade:\n",
    "        test_trade_users.append({\n",
    "            'user': element.user,\n",
    "            'version': element.version,\n",
    "            'buy_rate_option': element.buy_rate_option,\n",
    "            'sell_rate_option': element.sell_rate_option\n",
    "        })\n",
    "    if element.real_trade:\n",
    "        real_trade_users.append({\n",
    "            'user': element.user,\n",
    "            'version': element.version,\n",
    "            'buy_rate_option': element.buy_rate_option,\n",
    "            'sell_rate_option': element.sell_rate_option\n",
    "        })"
   ],
   "metadata": {
    "collapsed": false,
    "pycharm": {
     "name": "#%%\n"
    }
   }
  },
  {
   "cell_type": "code",
   "execution_count": 44,
   "outputs": [],
   "source": [
    "account = test_trade_users[0]\n",
    "## 구매 확인 및 판매 확인 로직\n",
    "buy_check_query = TradeResult.objects.filter(Q(user=account['user']), ~Q(buy_order_time=None), Q(buy_time=None)).last()\n",
    "if buy_check_query:\n",
    "    if now_price < buy_check_query.buy_price:\n",
    "        buy_check_query.buy_time = datetime.now()\n",
    "        buy_check_query.save()\n",
    "\n",
    "    elif datetime.now() - buy_check_query.buy_order_time > timedelta(hours=1):\n",
    "\n",
    "        buy_check_query.delete()\n",
    "\n",
    "sell_check_query = TradeResult.objects.filter(Q(user=account['user']), ~Q(sell_order_time=None), Q(sell_time=None))\n",
    "if sell_check_query:\n",
    "    if sell_check_query.last().sell_price < now_price:\n",
    "        for element in sell_check_query:\n",
    "            element.sell_time = datetime.now()\n",
    "            element.calculate_earning_rate(now_price=element.sell_price)\n",
    "            element.save()"
   ],
   "metadata": {
    "collapsed": false,
    "pycharm": {
     "name": "#%%\n"
    }
   }
  },
  {
   "cell_type": "code",
   "execution_count": null,
   "outputs": [],
   "source": [
    "## 구매 로직\n",
    "for account in test_trade_users:\n",
    "    result_query = TradeResult.objects.filter(user=account['user'], sell_order_time=None)\n",
    "    buy_flag = False\n",
    "    if account['version'] == 1:\n",
    "        if long_1:\n",
    "            buy_flag = True\n",
    "    elif account['version'] == 2:\n",
    "        if long_2:\n",
    "            buy_flag = True\n",
    "    elif account['version'] == 3:\n",
    "        if long_3:\n",
    "            buy_flag = True\n",
    "\n",
    "    if buy_flag:\n",
    "        # 최초 구매 시\n",
    "        if len(result_query) == 0:\n",
    "            TradeResult.objects.create(\n",
    "                user=account['user'],\n",
    "                buy_order_time=datetime.now(),\n",
    "                amount=100,\n",
    "                buy_price=now_price * (1 - (account['buy_rate_option'] / 10000))\n",
    "            )\n",
    "        elif len(result_query) > 0:\n",
    "            prev_trade = result_query.last()\n",
    "            prev_amount, prev_price = prev_trade.amount, prev_trade.buy_price\n",
    "\n",
    "            if now_price * (1 - (account['buy_rate_option'] / 10000)) < prev_price:\n",
    "                TradeResult.objects.create(\n",
    "                    user=account['user'],\n",
    "                    buy_order_time=datetime.now(),\n",
    "                    amount=prev_amount,\n",
    "                    buy_price=now_price * (1 - (account['buy_rate_option'] / 10000))\n",
    "                )"
   ],
   "metadata": {
    "collapsed": false,
    "pycharm": {
     "name": "#%%\n"
    }
   }
  },
  {
   "cell_type": "code",
   "execution_count": 45,
   "outputs": [],
   "source": [
    "## 판매 호가 로직\n",
    "sell_query = TradeResult.objects.filter(Q(user=account['user']), ~Q(buy_time=None), Q(sell_order_time=None))\n",
    "earning_rate_sum = 0\n",
    "if sell_query:\n",
    "    for element in sell_query:\n",
    "        element.calculate_earning_rate(now_price=now_price)\n",
    "        earning_rate_sum += element.earning_rate\n",
    "        element.save()\n",
    "\n",
    "if earning_rate_sum > 0:\n",
    "    for element in sell_query:\n",
    "        element.sell_order_time = datetime.now()\n",
    "        element.sell_price = now_price * (1 + (account['sell_rate_option'] / 10000))\n",
    "        element.save()\n"
   ],
   "metadata": {
    "collapsed": false,
    "pycharm": {
     "name": "#%%\n"
    }
   }
  }
 ],
 "metadata": {
  "kernelspec": {
   "display_name": "Python 3",
   "language": "python",
   "name": "python3"
  },
  "language_info": {
   "codemirror_mode": {
    "name": "ipython",
    "version": 2
   },
   "file_extension": ".py",
   "mimetype": "text/x-python",
   "name": "python",
   "nbconvert_exporter": "python",
   "pygments_lexer": "ipython2",
   "version": "2.7.6"
  }
 },
 "nbformat": 4,
 "nbformat_minor": 0
}